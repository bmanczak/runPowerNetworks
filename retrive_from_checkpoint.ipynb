{
 "cells": [
  {
   "cell_type": "code",
   "execution_count": 1,
   "metadata": {},
   "outputs": [
    {
     "name": "stderr",
     "output_type": "stream",
     "text": [
      "/opt/miniconda3/envs/rlib_grid/lib/python3.7/site-packages/redis/connection.py:72: UserWarning: redis-py works best with hiredis. Please consider installing\n",
      "  warnings.warn(msg)\n"
     ]
    }
   ],
   "source": [
    "import grid2op\n",
    "\n",
    "from ray.rllib.agents import ppo\n",
    "from ray.rllib.models import ModelCatalog\n",
    "\n",
    "from custom_model import Grid_Gym, SimpleMlp\n",
    "# import model registry from rllib\n",
    "\n",
    "\n",
    "ModelCatalog.register_custom_model(\"fcn\", SimpleMlp)"
   ]
  },
  {
   "cell_type": "code",
   "execution_count": 2,
   "metadata": {},
   "outputs": [],
   "source": [
    "model_config = {\n",
    "            \"fcnet_hiddens\": [128,128, 128],\n",
    "            \"fcnet_activation\": \"relu\",\n",
    "            \"custom_model\" : \"fcn\",\n",
    "            \"custom_model_config\" : {}\n",
    "        }\n",
    "    \n",
    "    \n",
    "env_config = {\n",
    "\"env_name\": \"rte_case14_realistic\",\n",
    "\"keep_observations\": [\"rho\", \"gen_p\", \"load_p\",\"p_or\",\"p_ex\",\"timestep_overflow\",  \n",
    "                                                                \"maintenance\", \n",
    "                                                                \"topo_vect\"],\n",
    "\"keep_actions\": [\"change_bus\", \"change_line_status\"],\n",
    "\"convert_to_tuple\": True\n",
    "}"
   ]
  },
  {
   "cell_type": "code",
   "execution_count": null,
   "metadata": {},
   "outputs": [],
   "source": []
  },
  {
   "cell_type": "code",
   "execution_count": 3,
   "metadata": {},
   "outputs": [
    {
     "name": "stderr",
     "output_type": "stream",
     "text": [
      "\u001b[2m\u001b[36m(pid=80972)\u001b[0m 2021-11-19 13:58:45,680\tINFO rollout_worker.py:1542 -- Validating sub-env at vector index=0 ... (ok)\n",
      "\u001b[2m\u001b[36m(pid=80972)\u001b[0m 2021-11-19 13:58:45,686\tINFO catalog.py:406 -- Wrapping <class 'custom_model.SimpleMlp'> as None\n",
      "\u001b[2m\u001b[36m(pid=80972)\u001b[0m 2021-11-19 13:58:45,688\tINFO torch_policy.py:150 -- TorchPolicy (worker=1) running on CPU.\n",
      "\u001b[2m\u001b[36m(pid=80972)\u001b[0m 2021-11-19 13:58:45,689\tWARNING deprecation.py:39 -- DeprecationWarning: `SampleBatch['is_training']` has been deprecated. Use `SampleBatch.is_training` instead. This will raise an error in the future!\n",
      "\u001b[2m\u001b[36m(pid=80969)\u001b[0m 2021-11-19 13:58:45,679\tINFO rollout_worker.py:1542 -- Validating sub-env at vector index=0 ... (ok)\n",
      "\u001b[2m\u001b[36m(pid=80969)\u001b[0m 2021-11-19 13:58:45,686\tINFO catalog.py:406 -- Wrapping <class 'custom_model.SimpleMlp'> as None\n",
      "\u001b[2m\u001b[36m(pid=80969)\u001b[0m 2021-11-19 13:58:45,688\tINFO torch_policy.py:150 -- TorchPolicy (worker=2) running on CPU.\n",
      "2021-11-19 13:58:45,749\tINFO worker_set.py:104 -- Inferred observation/action spaces from remote worker (local worker has no env): {'default_policy': (Dict(gen_p:Box([-7.71 -7.71 -7.71 -7.71 -7.71], [157.70999 207.70999  77.71     57.71    307.71002], (5,), float32), load_p:Box([-inf -inf -inf -inf -inf -inf -inf -inf -inf -inf -inf], [inf inf inf inf inf inf inf inf inf inf inf], (11,), float32), p_ex:Box([-inf -inf -inf -inf -inf -inf -inf -inf -inf -inf -inf -inf -inf -inf\n",
      " -inf -inf -inf -inf -inf -inf], [inf inf inf inf inf inf inf inf inf inf inf inf inf inf inf inf inf inf\n",
      " inf inf], (20,), float32), p_or:Box([-inf -inf -inf -inf -inf -inf -inf -inf -inf -inf -inf -inf -inf -inf\n",
      " -inf -inf -inf -inf -inf -inf], [inf inf inf inf inf inf inf inf inf inf inf inf inf inf inf inf inf inf\n",
      " inf inf], (20,), float32), rho:Box([0. 0. 0. 0. 0. 0. 0. 0. 0. 0. 0. 0. 0. 0. 0. 0. 0. 0. 0. 0.], [inf inf inf inf inf inf inf inf inf inf inf inf inf inf inf inf inf inf\n",
      " inf inf], (20,), float32), timestep_overflow:Box([-2147483648 -2147483648 -2147483648 -2147483648 -2147483648 -2147483648\n",
      " -2147483648 -2147483648 -2147483648 -2147483648 -2147483648 -2147483648\n",
      " -2147483648 -2147483648 -2147483648 -2147483648 -2147483648 -2147483648\n",
      " -2147483648 -2147483648], [2147483647 2147483647 2147483647 2147483647 2147483647 2147483647\n",
      " 2147483647 2147483647 2147483647 2147483647 2147483647 2147483647\n",
      " 2147483647 2147483647 2147483647 2147483647 2147483647 2147483647\n",
      " 2147483647 2147483647], (20,), int32), topo_vect:Box([-1 -1 -1 -1 -1 -1 -1 -1 -1 -1 -1 -1 -1 -1 -1 -1 -1 -1 -1 -1 -1 -1 -1 -1\n",
      " -1 -1 -1 -1 -1 -1 -1 -1 -1 -1 -1 -1 -1 -1 -1 -1 -1 -1 -1 -1 -1 -1 -1 -1\n",
      " -1 -1 -1 -1 -1 -1 -1 -1], [2 2 2 2 2 2 2 2 2 2 2 2 2 2 2 2 2 2 2 2 2 2 2 2 2 2 2 2 2 2 2 2 2 2 2 2 2\n",
      " 2 2 2 2 2 2 2 2 2 2 2 2 2 2 2 2 2 2 2], (56,), int32)), Dict(change_bus:Tuple(Discrete(2), Discrete(2), Discrete(2), Discrete(2), Discrete(2), Discrete(2), Discrete(2), Discrete(2), Discrete(2), Discrete(2), Discrete(2), Discrete(2), Discrete(2), Discrete(2), Discrete(2), Discrete(2), Discrete(2), Discrete(2), Discrete(2), Discrete(2), Discrete(2), Discrete(2), Discrete(2), Discrete(2), Discrete(2), Discrete(2), Discrete(2), Discrete(2), Discrete(2), Discrete(2), Discrete(2), Discrete(2), Discrete(2), Discrete(2), Discrete(2), Discrete(2), Discrete(2), Discrete(2), Discrete(2), Discrete(2), Discrete(2), Discrete(2), Discrete(2), Discrete(2), Discrete(2), Discrete(2), Discrete(2), Discrete(2), Discrete(2), Discrete(2), Discrete(2), Discrete(2), Discrete(2), Discrete(2), Discrete(2), Discrete(2)), change_line_status:Tuple(Discrete(2), Discrete(2), Discrete(2), Discrete(2), Discrete(2), Discrete(2), Discrete(2), Discrete(2), Discrete(2), Discrete(2), Discrete(2), Discrete(2), Discrete(2), Discrete(2), Discrete(2), Discrete(2), Discrete(2), Discrete(2), Discrete(2), Discrete(2)))), '__env__': (Dict(gen_p:Box([-7.71 -7.71 -7.71 -7.71 -7.71], [157.70999 207.70999  77.71     57.71    307.71002], (5,), float32), load_p:Box([-inf -inf -inf -inf -inf -inf -inf -inf -inf -inf -inf], [inf inf inf inf inf inf inf inf inf inf inf], (11,), float32), p_ex:Box([-inf -inf -inf -inf -inf -inf -inf -inf -inf -inf -inf -inf -inf -inf\n",
      " -inf -inf -inf -inf -inf -inf], [inf inf inf inf inf inf inf inf inf inf inf inf inf inf inf inf inf inf\n",
      " inf inf], (20,), float32), p_or:Box([-inf -inf -inf -inf -inf -inf -inf -inf -inf -inf -inf -inf -inf -inf\n",
      " -inf -inf -inf -inf -inf -inf], [inf inf inf inf inf inf inf inf inf inf inf inf inf inf inf inf inf inf\n",
      " inf inf], (20,), float32), rho:Box([0. 0. 0. 0. 0. 0. 0. 0. 0. 0. 0. 0. 0. 0. 0. 0. 0. 0. 0. 0.], [inf inf inf inf inf inf inf inf inf inf inf inf inf inf inf inf inf inf\n",
      " inf inf], (20,), float32), timestep_overflow:Box([-2147483648 -2147483648 -2147483648 -2147483648 -2147483648 -2147483648\n",
      " -2147483648 -2147483648 -2147483648 -2147483648 -2147483648 -2147483648\n",
      " -2147483648 -2147483648 -2147483648 -2147483648 -2147483648 -2147483648\n",
      " -2147483648 -2147483648], [2147483647 2147483647 2147483647 2147483647 2147483647 2147483647\n",
      " 2147483647 2147483647 2147483647 2147483647 2147483647 2147483647\n",
      " 2147483647 2147483647 2147483647 2147483647 2147483647 2147483647\n",
      " 2147483647 2147483647], (20,), int32), topo_vect:Box([-1 -1 -1 -1 -1 -1 -1 -1 -1 -1 -1 -1 -1 -1 -1 -1 -1 -1 -1 -1 -1 -1 -1 -1\n",
      " -1 -1 -1 -1 -1 -1 -1 -1 -1 -1 -1 -1 -1 -1 -1 -1 -1 -1 -1 -1 -1 -1 -1 -1\n",
      " -1 -1 -1 -1 -1 -1 -1 -1], [2 2 2 2 2 2 2 2 2 2 2 2 2 2 2 2 2 2 2 2 2 2 2 2 2 2 2 2 2 2 2 2 2 2 2 2 2\n",
      " 2 2 2 2 2 2 2 2 2 2 2 2 2 2 2 2 2 2 2], (56,), int32)), Dict(change_bus:Tuple(Discrete(2), Discrete(2), Discrete(2), Discrete(2), Discrete(2), Discrete(2), Discrete(2), Discrete(2), Discrete(2), Discrete(2), Discrete(2), Discrete(2), Discrete(2), Discrete(2), Discrete(2), Discrete(2), Discrete(2), Discrete(2), Discrete(2), Discrete(2), Discrete(2), Discrete(2), Discrete(2), Discrete(2), Discrete(2), Discrete(2), Discrete(2), Discrete(2), Discrete(2), Discrete(2), Discrete(2), Discrete(2), Discrete(2), Discrete(2), Discrete(2), Discrete(2), Discrete(2), Discrete(2), Discrete(2), Discrete(2), Discrete(2), Discrete(2), Discrete(2), Discrete(2), Discrete(2), Discrete(2), Discrete(2), Discrete(2), Discrete(2), Discrete(2), Discrete(2), Discrete(2), Discrete(2), Discrete(2), Discrete(2), Discrete(2)), change_line_status:Tuple(Discrete(2), Discrete(2), Discrete(2), Discrete(2), Discrete(2), Discrete(2), Discrete(2), Discrete(2), Discrete(2), Discrete(2), Discrete(2), Discrete(2), Discrete(2), Discrete(2), Discrete(2), Discrete(2), Discrete(2), Discrete(2), Discrete(2), Discrete(2))))}\n",
      "2021-11-19 13:58:45,757\tINFO catalog.py:406 -- Wrapping <class 'custom_model.SimpleMlp'> as None\n",
      "2021-11-19 13:58:45,760\tINFO torch_policy.py:150 -- TorchPolicy (worker=local) running on CPU.\n",
      "2021-11-19 13:58:45,763\tWARNING deprecation.py:39 -- DeprecationWarning: `SampleBatch['is_training']` has been deprecated. Use `SampleBatch.is_training` instead. This will raise an error in the future!\n",
      "2021-11-19 13:58:45,806\tINFO rollout_worker.py:1388 -- Built policy map: {}\n",
      "2021-11-19 13:58:45,806\tINFO rollout_worker.py:1389 -- Built preprocessor map: {'default_policy': <ray.rllib.models.preprocessors.DictFlatteningPreprocessor object at 0x7fc131b33510>}\n",
      "2021-11-19 13:58:45,806\tINFO rollout_worker.py:615 -- Built filter map: {'default_policy': <ray.rllib.utils.filter.NoFilter object at 0x7fc11674d210>}\n",
      "2021-11-19 13:58:45,809\tWARNING trainer_template.py:186 -- `execution_plan` functions should accept `trainer`, `workers`, and `config` as args!\n",
      "2021-11-19 13:58:45,811\tWARNING util.py:57 -- Install gputil for GPU system monitoring.\n"
     ]
    }
   ],
   "source": [
    "#grid2op.make(env_config[\"env_name\"])\n",
    "checkpoint_path = \"/Users/blazejmanczak/ray_results/PPO_Grid_Gym_2021-11-19_13-35-22paxqfl17/checkpoint_000006/checkpoint-6\"\n",
    "agent = ppo.PPOTrainer(env=Grid_Gym, config={\n",
    "        \"env_config\": env_config,  # config to pass to env class,\n",
    "        #\"env_config\": {\"env_name\":\"l2rpn\\_case14_sandbox\"}, \n",
    "        \"model\" : model_config,\n",
    "        \"log_level\":\"INFO\",\n",
    "        \"framework\": \"torch\",\n",
    "        \"rollout_fragment_length\": 16,\n",
    "            \"sgd_minibatch_size\": 64,\n",
    "            \"train_batch_size\": 2048,\n",
    "\n",
    "        \"vf_clip_param\": 1000\n",
    "\n",
    "    })\n",
    "\n",
    "# agent.restore(checkpoint_path)\n"
   ]
  },
  {
   "cell_type": "code",
   "execution_count": 4,
   "metadata": {},
   "outputs": [
    {
     "name": "stderr",
     "output_type": "stream",
     "text": [
      "2021-11-19 13:58:45,838\tINFO trainable.py:417 -- Restored on 127.0.0.1 from checkpoint: /Users/blazejmanczak/ray_results/PPO_Grid_Gym_2021-11-19_13-35-22paxqfl17/checkpoint_000006/checkpoint-6\n",
      "2021-11-19 13:58:45,839\tINFO trainable.py:424 -- Current state after restoring: {'_iteration': 6, '_timesteps_total': 0, '_time_total': 394.5043132305145, '_episodes_total': 12}\n"
     ]
    }
   ],
   "source": [
    "agent.restore(checkpoint_path)"
   ]
  },
  {
   "cell_type": "code",
   "execution_count": 5,
   "metadata": {},
   "outputs": [],
   "source": [
    "env = Grid_Gym(env_config)"
   ]
  },
  {
   "cell_type": "code",
   "execution_count": 6,
   "metadata": {},
   "outputs": [
    {
     "name": "stderr",
     "output_type": "stream",
     "text": [
      "2021-11-19 13:58:48,166\tWARNING deprecation.py:39 -- DeprecationWarning: `compute_action` has been deprecated. Use `compute_single_action` instead. This will raise an error in the future!\n"
     ]
    },
    {
     "name": "stdout",
     "output_type": "stream",
     "text": [
      "{'change_bus': (1, 0, 1, 1, 1, 1, 0, 0, 1, 1, 0, 0, 0, 0, 1, 1, 0, 1, 1, 1, 1, 0, 1, 0, 0, 0, 0, 1, 0, 0, 1, 0, 1, 0, 1, 0, 1, 0, 0, 0, 1, 1, 1, 0, 0, 1, 0, 1, 0, 1, 0, 0, 0, 0, 1, 0), 'change_line_status': (0, 0, 0, 1, 1, 0, 1, 1, 1, 1, 0, 1, 1, 1, 0, 0, 1, 1, 0, 1)}\n"
     ]
    }
   ],
   "source": [
    "# run until episode ends\n",
    "episode_reward = 0\n",
    "done = False\n",
    "obs = env.reset()\n",
    "while not done:\n",
    "    action = agent.compute_action(obs)\n",
    "    print(action)\n",
    "    obs, reward, done, info = env.step(action)\n",
    "    episode_reward += reward\n",
    "    break"
   ]
  },
  {
   "cell_type": "code",
   "execution_count": null,
   "metadata": {},
   "outputs": [],
   "source": []
  }
 ],
 "metadata": {
  "interpreter": {
   "hash": "cd1a1f66bec4b7b5ad4da0007ab235e778c87d19785067c485d2ce55023da22c"
  },
  "kernelspec": {
   "display_name": "Python 3.7.11 64-bit ('rlib_grid': conda)",
   "language": "python",
   "name": "python3"
  },
  "language_info": {
   "codemirror_mode": {
    "name": "ipython",
    "version": 3
   },
   "file_extension": ".py",
   "mimetype": "text/x-python",
   "name": "python",
   "nbconvert_exporter": "python",
   "pygments_lexer": "ipython3",
   "version": "3.7.11"
  },
  "orig_nbformat": 4
 },
 "nbformat": 4,
 "nbformat_minor": 2
}
