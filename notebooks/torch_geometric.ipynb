{
 "cells": [
  {
   "cell_type": "code",
   "execution_count": 9,
   "metadata": {},
   "outputs": [],
   "source": [
    "import torch\n",
    "import numpy as np\n",
    "\n",
    "from torch_geometric.data import Data\n",
    "from torch.nn.utils.rnn import pad_sequence\n",
    "from grid2op_env.grid_to_gym import Grid_Gym\n",
    "from evaluation.restore_agent import restore_agent"
   ]
  },
  {
   "cell_type": "code",
   "execution_count": 4,
   "metadata": {},
   "outputs": [
    {
     "name": "stdout",
     "output_type": "stream",
     "text": [
      "SUBSTATION NUMBER: 0\n",
      "Choosing 2 out of 3\n",
      "Choosing 3 out of 3\n",
      "SUBSTATION NUMBER: 1\n",
      "Choosing 3 out of 6\n",
      "Choosing 4 out of 6\n",
      "Choosing 5 out of 6\n",
      "Choosing 6 out of 6\n",
      "SUBSTATION NUMBER: 2\n",
      "Choosing 2 out of 4\n",
      "Choosing 3 out of 4\n",
      "Choosing 4 out of 4\n",
      "SUBSTATION NUMBER: 3\n",
      "Choosing 3 out of 6\n",
      "Choosing 4 out of 6\n",
      "Choosing 5 out of 6\n",
      "Choosing 6 out of 6\n",
      "SUBSTATION NUMBER: 4\n",
      "Choosing 3 out of 5\n",
      "Choosing 4 out of 5\n",
      "Choosing 5 out of 5\n",
      "SUBSTATION NUMBER: 5\n",
      "Choosing 3 out of 6\n",
      "Choosing 4 out of 6\n",
      "Choosing 5 out of 6\n",
      "Choosing 6 out of 6\n",
      "SUBSTATION NUMBER: 6\n",
      "Choosing 2 out of 3\n",
      "Choosing 3 out of 3\n",
      "SUBSTATION NUMBER: 7\n",
      "Choosing 1 out of 2\n",
      "Choosing 2 out of 2\n",
      "SUBSTATION NUMBER: 8\n",
      "Choosing 3 out of 5\n",
      "Choosing 4 out of 5\n",
      "Choosing 5 out of 5\n",
      "SUBSTATION NUMBER: 9\n",
      "Choosing 2 out of 3\n",
      "Choosing 3 out of 3\n",
      "SUBSTATION NUMBER: 10\n",
      "Choosing 2 out of 3\n",
      "Choosing 3 out of 3\n",
      "SUBSTATION NUMBER: 11\n",
      "Choosing 2 out of 3\n",
      "Choosing 3 out of 3\n",
      "SUBSTATION NUMBER: 12\n",
      "Choosing 2 out of 4\n",
      "Choosing 3 out of 4\n",
      "Choosing 4 out of 4\n",
      "SUBSTATION NUMBER: 13\n",
      "Choosing 2 out of 3\n",
      "Choosing 3 out of 3\n",
      "all_actions dict:  {'loads_id': [(10, 1)], 'generators_id': [], 'lines_or_id': [], 'lines_ex_id': [(11, 1), (14, 1)]}\n",
      "len all actions 112\n"
     ]
    },
    {
     "name": "stderr",
     "output_type": "stream",
     "text": [
      "/opt/miniconda3/envs/rlib_grid/lib/python3.7/site-packages/lightsim2grid/_aux_add_trafo.py:33: UserWarning: There were some Nan in the pp_net.trafo[\"tap_neutral\"], they have been replaced by 0\n",
      "  warnings.warn(\"There were some Nan in the pp_net.trafo[\\\"tap_neutral\\\"], they have been replaced by 0\")\n",
      "/opt/miniconda3/envs/rlib_grid/lib/python3.7/site-packages/lightsim2grid/_aux_add_trafo.py:41: UserWarning: There were some Nan in the pp_net.trafo[\"tap_step_percent\"], they have been replaced by 0\n",
      "  warnings.warn(\"There were some Nan in the pp_net.trafo[\\\"tap_step_percent\\\"], they have been replaced by 0\")\n",
      "/opt/miniconda3/envs/rlib_grid/lib/python3.7/site-packages/lightsim2grid/_aux_add_trafo.py:46: UserWarning: There were some Nan in the pp_net.trafo[\"tap_pos\"], they have been replaced by 0\n",
      "  warnings.warn(\"There were some Nan in the pp_net.trafo[\\\"tap_pos\\\"], they have been replaced by 0\")\n",
      "/opt/miniconda3/envs/rlib_grid/lib/python3.7/site-packages/gym/spaces/box.py:74: UserWarning: \u001b[33mWARN: Box bound precision lowered by casting to float32\u001b[0m\n",
      "  \"Box bound precision lowered by casting to {}\".format(self.dtype)\n"
     ]
    }
   ],
   "source": [
    "env_config = {'act_on_single_substation': True,\n",
    "            'convert_to_tuple': True,\n",
    "            'env_name': 'rte_case14_realistic',\n",
    "            'keep_actions': \n",
    "                            ['change_bus'],\n",
    "            'keep_observations': ['rho',\n",
    "                                'gen_p',\n",
    "                                'load_p',\n",
    "                                'p_or',\n",
    "                                'p_ex',\n",
    "                                'timestep_overflow',\n",
    "                                'maintenance',\n",
    "                                'topo_vect'],\n",
    "            'log_reward': False,\n",
    "            'medha_actions': True,\n",
    "            'reward_scaling_factor': 3,\n",
    "            'rho_threshold': 0.9,\n",
    "            'run_until_threshold': True,\n",
    "            'scale': True,\n",
    "            'use_parametric': False,\n",
    "            'conn_matrix': True\n",
    "            }\n",
    "\n",
    "rllib_env = Grid_Gym(env_config);\n",
    "env = rllib_env.org_env\n",
    "\n",
    "def vectorize_obs(obs, env, hazard_threshold = 0.9):\n",
    "   \"\"\"\n",
    "   Vectorize the gym observation.\n",
    "\n",
    "   :param OrderedDict obs: gym observation\n",
    "   :param Grid2Op_environment env: grid2op environment. Used to fetch the \n",
    "      ids of different objects.\n",
    "   :param float hazard_threshold\n",
    "   \"\"\"\n",
    "\n",
    "   length = env.action_space.dim_topo # number of bus bars == number of nodes in the graph\n",
    "\n",
    "   # rho is symmetric for both ends of the line [56,1]\n",
    "   rho = torch.zeros(length)\n",
    "   rho[env.action_space.line_or_pos_topo_vect] = torch.from_numpy(obs[\"rho\"])\n",
    "   rho[env.action_space.line_ex_pos_topo_vect] = torch.from_numpy(obs[\"rho\"])\n",
    "\n",
    "   # active power p [56,1]\n",
    "   p = torch.zeros(length)\n",
    "   p[env.action_space.gen_pos_topo_vect] = torch.from_numpy(obs[\"gen_p\"]) # generator active production\n",
    "   p[env.action_space.load_pos_topo_vect] = torch.from_numpy(obs[\"load_p\"]) # load active consumption\n",
    "   p[env.action_space.line_or_pos_topo_vect] = torch.from_numpy(obs[\"p_or\"]) # origin active flow\n",
    "   p[env.action_space.line_ex_pos_topo_vect] = torch.from_numpy(obs[\"p_ex\"]) # Extremity active flow\n",
    "\n",
    "   # overflow [56,1]\n",
    "   over = torch.zeros(length)\n",
    "   over[env.action_space.line_or_pos_topo_vect] = torch.from_numpy(obs[\"timestep_overflow\"]).float()\n",
    "   over[env.action_space.line_ex_pos_topo_vect] = torch.from_numpy(obs[\"timestep_overflow\"]).float()\n",
    "\n",
    "   # one-hot topo vector [56,3]\n",
    "   topo_vect_one_hot = torch.zeros(length,3)\n",
    "   topo_vect = obs[\"topo_vect\"]\n",
    "   topo_vect[topo_vect==-1] = 0 # change disconneted from -1 to 0\n",
    "   topo_vect_one_hot = torch.nn.functional.one_hot(torch.from_numpy(topo_vect).to(torch.int64), num_classes=3)\n",
    "\n",
    "   # powerline maintenance\n",
    "   # maintenance = torch.zeros(length)\n",
    "   # maintenance[env.action_space.line_or_pos_topo_vect] = torch.from_numpy(obs[\"maintenance\"]).float()\n",
    "   # maintenance[env.action_space.line_ex_pos_topo_vect] = torch.from_numpy(obs[\"maintenance\"]).float()\n",
    "\n",
    "   # manual feature thresholding \n",
    "   hazard = torch.zeros(length) # [56,1]\n",
    "   hazard[env.action_space.line_or_pos_topo_vect] = (torch.from_numpy(obs[\"rho\"]) > hazard_threshold).float()\n",
    "   hazard[env.action_space.line_ex_pos_topo_vect] = (torch.from_numpy(obs[\"rho\"]) > hazard_threshold).float()\n",
    "\n",
    "   vectorized_obs = torch.stack([rho,p,over, hazard], dim = 1)\n",
    "   vectorized_obs = torch.concat([vectorized_obs, topo_vect_one_hot], dim = -1)\n",
    "   \n",
    "   return vectorized_obs"
   ]
  },
  {
   "cell_type": "code",
   "execution_count": 5,
   "metadata": {},
   "outputs": [],
   "source": [
    "obs = rllib_env.reset()\n"
   ]
  },
  {
   "cell_type": "code",
   "execution_count": 10,
   "metadata": {},
   "outputs": [
    {
     "data": {
      "text/plain": [
       "torch.Size([56, 7])"
      ]
     },
     "execution_count": 10,
     "metadata": {},
     "output_type": "execute_result"
    }
   ],
   "source": [
    "vectorize_obs(obs, env).shape"
   ]
  },
  {
   "cell_type": "code",
   "execution_count": 7,
   "metadata": {},
   "outputs": [],
   "source": [
    "cm = obs[\"connectivity_matrix\"]"
   ]
  },
  {
   "cell_type": "code",
   "execution_count": 14,
   "metadata": {},
   "outputs": [],
   "source": [
    "edgelist_with_self  = np.argwhere(cm==1)\n",
    "edge_list = np.array([pair for pair in edgelist_with_self if pair[0] != pair[1]])\n",
    "\n",
    "edge_list = torch.from_numpy(edge_list)"
   ]
  },
  {
   "cell_type": "code",
   "execution_count": null,
   "metadata": {},
   "outputs": [],
   "source": []
  },
  {
   "cell_type": "code",
   "execution_count": 15,
   "metadata": {},
   "outputs": [
    {
     "data": {
      "text/plain": [
       "torch.Size([4, 2])"
      ]
     },
     "execution_count": 15,
     "metadata": {},
     "output_type": "execute_result"
    }
   ],
   "source": [
    "edge_index = torch.tensor([[0, 1],\n",
    "                           [1, 0],\n",
    "                           [1, 2],\n",
    "                           [2, 1]], dtype=torch.long)\n",
    "edge_index.shape"
   ]
  },
  {
   "cell_type": "code",
   "execution_count": 16,
   "metadata": {},
   "outputs": [],
   "source": [
    "data = Data(x= vectorize_obs(obs, env), edge_index=edge_list.t().contiguous())"
   ]
  },
  {
   "cell_type": "code",
   "execution_count": null,
   "metadata": {},
   "outputs": [],
   "source": []
  }
 ],
 "metadata": {
  "interpreter": {
   "hash": "cd1a1f66bec4b7b5ad4da0007ab235e778c87d19785067c485d2ce55023da22c"
  },
  "kernelspec": {
   "display_name": "Python 3.7.11 64-bit ('rlib_grid': conda)",
   "language": "python",
   "name": "python3"
  },
  "language_info": {
   "codemirror_mode": {
    "name": "ipython",
    "version": 3
   },
   "file_extension": ".py",
   "mimetype": "text/x-python",
   "name": "python",
   "nbconvert_exporter": "python",
   "pygments_lexer": "ipython3",
   "version": "3.7.11"
  },
  "orig_nbformat": 4
 },
 "nbformat": 4,
 "nbformat_minor": 2
}
